{
 "cells": [
  {
   "cell_type": "code",
   "execution_count": 1,
   "id": "83057777",
   "metadata": {},
   "outputs": [],
   "source": [
    "import time\n",
    "import pySCION_initialise\n",
    "import pySCION_classes\n",
    "import numpy as np\n",
    "import scipy.io as sp\n",
    "import matplotlib.pyplot as plt\n"
   ]
  },
  {
   "cell_type": "code",
   "execution_count": null,
   "id": "60c0ddf5",
   "metadata": {},
   "outputs": [],
   "source": [
    "res = pySCION_initialise.pySCION_initialise(-1)"
   ]
  }
 ],
 "metadata": {
  "kernelspec": {
   "display_name": "pySCION_env",
   "language": "python",
   "name": "python3"
  },
  "language_info": {
   "codemirror_mode": {
    "name": "ipython",
    "version": 3
   },
   "file_extension": ".py",
   "mimetype": "text/x-python",
   "name": "python",
   "nbconvert_exporter": "python",
   "pygments_lexer": "ipython3",
   "version": "3.12.6"
  },
  "vscode": {
   "interpreter": {
    "hash": "9223cb5ced1ac821ec5e0788b47b658656638258586c2fe65a48fc42857f081d"
   }
  }
 },
 "nbformat": 4,
 "nbformat_minor": 5
}

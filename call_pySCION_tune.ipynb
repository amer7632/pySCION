{
 "cells": [
  {
   "cell_type": "code",
   "execution_count": 1,
   "id": "83057777",
   "metadata": {},
   "outputs": [],
   "source": [
    "import numpy as np\n",
    "import pySCION_initialise\n",
    "from scipy.optimize import minimize"
   ]
  },
  {
   "cell_type": "code",
   "execution_count": 2,
   "id": "c6afb862",
   "metadata": {},
   "outputs": [],
   "source": [
    "\n",
    "def pySCION_tune(tuning_start_vals):\n",
    "\n",
    "    res = pySCION_initialise.pySCION_initialise(0, tuning_start_vals)\n",
    "    \n",
    "    costfunc = (res.state.Orel[-1] - 1)**2 \\\n",
    "             + (res.state.Arel[-1] - 1)**2 \\\n",
    "             + (res.state.Srel[-1] - 1)**2 \\\n",
    "             + (res.state.Grel[-1] - 1)**2 \\\n",
    "             + (res.state.Crel[-1] - 1)**2 \\\n",
    "             + (res.state.pyrrel[-1] - 1)**2 \\\n",
    "             + (res.state.gyprel[-1] - 1)**2\n",
    "        \n",
    "    # print update\n",
    "    print('Reservoirs: O | A | S | G | C | pyr | gyp')\n",
    "    print(f'Parameters: {tuning_start_vals}')\n",
    "    print('Final vals: ')\n",
    "\n",
    "    print(['O: ', '%.2f' % res.state.Orel[-1],\n",
    "           'A: ', '%.2f' % res.state.Arel[-1],\n",
    "           'S: ', '%.2f' % res.state.Srel[-1],\n",
    "           'G: ', '%.2f' % res.state.Grel[-1],\n",
    "           'C: ', '%.2f' % res.state.Crel[-1],\n",
    "           'pyr: ', '%.2f' % res.state.pyrrel[-1],\n",
    "           'gyp: ', '%.2f' % res.state.gyprel[-1]])\n",
    "    \n",
    "    print('\\n')\n",
    "    print(f'chisquared: {costfunc}')\n",
    "    print('\\n')\n",
    "\n",
    "    return costfunc"
   ]
  },
  {
   "cell_type": "code",
   "execution_count": null,
   "id": "f5509fa8",
   "metadata": {},
   "outputs": [],
   "source": [
    "\n",
    "\n",
    "# starting vals\n",
    "x0 =  [0.1, 3, 0.05, 0.55, 0.95, 1.2, 1]\n",
    "# double and take 1/5th as a range(?) could change this with multiprocessing\n",
    "lb = np.asarray([0.1, 3, 0.05, 0.55, 0.95, 1.2, 1])*.1\n",
    "ub = np.asarray([0.1, 3, 0.05, 0.55, 0.95, 1.2, 1])*10\n",
    "bounds = np.dstack((lb, ub))[0]\n",
    "\n",
    "res1 = minimize(pySCION_tune, x0, method=\"Nelder-Mead\", bounds=bounds,\n",
    "               options={'disp':True, 'fatol':1e-04, 'maxiter':100})"
   ]
  },
  {
   "cell_type": "code",
   "execution_count": null,
   "id": "be498e87",
   "metadata": {},
   "outputs": [],
   "source": [
    "res1.x"
   ]
  }
 ],
 "metadata": {
  "kernelspec": {
   "display_name": "pySCION_env",
   "language": "python",
   "name": "python3"
  },
  "language_info": {
   "codemirror_mode": {
    "name": "ipython",
    "version": 3
   },
   "file_extension": ".py",
   "mimetype": "text/x-python",
   "name": "python",
   "nbconvert_exporter": "python",
   "pygments_lexer": "ipython3",
   "version": "3.12.6"
  },
  "vscode": {
   "interpreter": {
    "hash": "9223cb5ced1ac821ec5e0788b47b658656638258586c2fe65a48fc42857f081d"
   }
  }
 },
 "nbformat": 4,
 "nbformat_minor": 5
}
